{
 "cells": [
  {
   "cell_type": "markdown",
   "metadata": {},
   "source": [
    "## 라이브러리를 import"
   ]
  },
  {
   "cell_type": "code",
   "execution_count": 2,
   "metadata": {
    "collapsed": true
   },
   "outputs": [],
   "source": [
    "import numpy as np\n",
    "import pandas as pd\n",
    "from sklearn.linear_model import Ridge"
   ]
  },
  {
   "cell_type": "markdown",
   "metadata": {},
   "source": [
    "## Data를 Load합니다. "
   ]
  },
  {
   "cell_type": "code",
   "execution_count": 31,
   "metadata": {
    "collapsed": false
   },
   "outputs": [],
   "source": [
    "train = pd.read_csv('train.csv', dtype={\"var 7\": str})  #train = pd.read_csv('train.csv')\n",
    "test = pd.read_csv('test.csv', dtype={\"var 7\": str})    #test = pd.read_csv('test.csv')\n",
    "sample = pd.read_csv('sampleSubmission.csv')\n"
   ]
  },
  {
   "cell_type": "code",
   "execution_count": 23,
   "metadata": {
    "collapsed": false
   },
   "outputs": [
    {
     "name": "stdout",
     "output_type": "stream",
     "text": [
      "(452061, 302)\n",
      "(450728, 301)\n",
      "(450728, 2)\n"
     ]
    }
   ],
   "source": [
    "print train.shape\n",
    "print test.shape\n",
    "print sample.shape"
   ]
  },
  {
   "cell_type": "markdown",
   "metadata": {},
   "source": [
    "## 사용할 모델에 맞는 변수선택"
   ]
  },
  {
   "cell_type": "code",
   "execution_count": 26,
   "metadata": {
    "collapsed": false
   },
   "outputs": [],
   "source": [
    "#Ridge의 인풋은 실수여야함. \n",
    "tr = train[['var11', 'var12', 'var13', 'var14', 'var15', 'var16', 'var17']]\n",
    "ts = test[['var11', 'var12', 'var13', 'var14', 'var15', 'var16', 'var17']]\n",
    "\n",
    "#nan 값을 0으로 변경 \n",
    "tr = np.nan_to_num(np.array(tr))\n",
    "ts = np.nan_to_num(np.array(ts))\n"
   ]
  },
  {
   "cell_type": "markdown",
   "metadata": {},
   "source": [
    "## 예측알고리즘을 실행"
   ]
  },
  {
   "cell_type": "code",
   "execution_count": 27,
   "metadata": {
    "collapsed": false
   },
   "outputs": [],
   "source": [
    "clf = Ridge()\n",
    "clf.fit(tr, train['target'].values)\n",
    "preds = clf.predict(ts)\n"
   ]
  },
  {
   "cell_type": "markdown",
   "metadata": {},
   "source": [
    "## 결과물을저장,  CSV파일로 만듬"
   ]
  },
  {
   "cell_type": "code",
   "execution_count": 30,
   "metadata": {
    "collapsed": false
   },
   "outputs": [
    {
     "name": "stdout",
     "output_type": "stream",
     "text": [
      "(450728, 2)\n"
     ]
    }
   ],
   "source": [
    "sample['target'] = preds\n",
    "#sample['target'] = np.abs(preds)\n",
    "#sample['target'] = np.round(np.abs(preds))\n",
    "\n",
    "sample.to_csv('submission.csv', index = False)\n",
    "\n",
    "print sample.shape"
   ]
  }
 ],
 "metadata": {
  "kernelspec": {
   "display_name": "Python 2",
   "language": "python",
   "name": "python2"
  },
  "language_info": {
   "codemirror_mode": {
    "name": "ipython",
    "version": 2
   },
   "file_extension": ".py",
   "mimetype": "text/x-python",
   "name": "python",
   "nbconvert_exporter": "python",
   "pygments_lexer": "ipython2",
   "version": "2.7.12"
  }
 },
 "nbformat": 4,
 "nbformat_minor": 2
}
